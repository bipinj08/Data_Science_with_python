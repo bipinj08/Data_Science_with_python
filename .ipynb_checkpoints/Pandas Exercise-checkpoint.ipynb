{
 "cells": [
  {
   "cell_type": "markdown",
   "id": "6654b0a5",
   "metadata": {},
   "source": [
    "# Pandas Series exercises"
   ]
  },
  {
   "cell_type": "code",
   "execution_count": 2,
   "id": "b0244c2a",
   "metadata": {},
   "outputs": [
    {
     "name": "stdout",
     "output_type": "stream",
     "text": [
      "1.4.4\n"
     ]
    }
   ],
   "source": [
    "import pandas as pd\n",
    "import numpy as np\n",
    "print(pd.__version__)"
   ]
  },
  {
   "cell_type": "markdown",
   "id": "8da2a129",
   "metadata": {},
   "source": [
    "# Series creation\n",
    "\n",
    "\n",
    "\n",
    "## Create an empty pandas Series"
   ]
  },
  {
   "cell_type": "code",
   "execution_count": 4,
   "id": "1407a285",
   "metadata": {},
   "outputs": [
    {
     "name": "stderr",
     "output_type": "stream",
     "text": [
      "C:\\Users\\User\\AppData\\Local\\Temp\\ipykernel_9120\\2031691219.py:1: FutureWarning: The default dtype for empty Series will be 'object' instead of 'float64' in a future version. Specify a dtype explicitly to silence this warning.\n",
      "  pd.Series()\n"
     ]
    },
    {
     "data": {
      "text/plain": [
       "Series([], dtype: float64)"
      ]
     },
     "execution_count": 4,
     "metadata": {},
     "output_type": "execute_result"
    }
   ],
   "source": [
    "pd.Series()"
   ]
  },
  {
   "cell_type": "code",
   "execution_count": 7,
   "id": "45a4bfe4",
   "metadata": {},
   "outputs": [
    {
     "name": "stdout",
     "output_type": "stream",
     "text": [
      "0    1\n",
      "1    5\n",
      "2    7\n",
      "3    8\n",
      "dtype: int64 <class 'pandas.core.series.Series'>\n"
     ]
    }
   ],
   "source": [
    "X = [1,5,7,8]\n",
    "Y = pd.Series(X)\n",
    "print(Y, type(Y))"
   ]
  },
  {
   "cell_type": "markdown",
   "id": "ecbcb115",
   "metadata": {},
   "source": [
    "# Given the X pandas Series, name it 'My Numbers'\n"
   ]
  },
  {
   "cell_type": "code",
   "execution_count": 9,
   "id": "f3a5cb39",
   "metadata": {},
   "outputs": [
    {
     "data": {
      "text/plain": [
       "0    1\n",
       "1    5\n",
       "2    8\n",
       "3    9\n",
       "4    7\n",
       "Name: My Numbers, dtype: int64"
      ]
     },
     "execution_count": 9,
     "metadata": {},
     "output_type": "execute_result"
    }
   ],
   "source": [
    "X = pd.Series([1,5,8,9,7])\n",
    "X.name = 'My Numbers'\n",
    "X"
   ]
  },
  {
   "cell_type": "markdown",
   "id": "6c2358e0",
   "metadata": {},
   "source": [
    "# Given the X pandas Series, show its values"
   ]
  },
  {
   "cell_type": "code",
   "execution_count": 11,
   "id": "c7eb98f9",
   "metadata": {},
   "outputs": [
    {
     "data": {
      "text/plain": [
       "array([1, 5, 8, 6, 7, 5], dtype=int64)"
      ]
     },
     "execution_count": 11,
     "metadata": {},
     "output_type": "execute_result"
    }
   ],
   "source": [
    "X = pd.Series([1,5,8,6,7,5])\n",
    "X.values"
   ]
  },
  {
   "cell_type": "markdown",
   "id": "b6a6a8a7",
   "metadata": {},
   "source": [
    "# Series indexation\n",
    "## Assign index names to the given X pandas Series"
   ]
  },
  {
   "cell_type": "code",
   "execution_count": 15,
   "id": "ea2db78c",
   "metadata": {},
   "outputs": [
    {
     "data": {
      "text/plain": [
       "a    A\n",
       "b    B\n",
       "c    C\n",
       "d    D\n",
       "dtype: object"
      ]
     },
     "execution_count": 15,
     "metadata": {},
     "output_type": "execute_result"
    }
   ],
   "source": [
    "X = pd.Series(['A', 'B', 'C', 'D'])\n",
    "X.index = ['a', 'b', 'c', 'd']\n",
    "X"
   ]
  },
  {
   "cell_type": "markdown",
   "id": "f55f2d12",
   "metadata": {},
   "source": [
    "# Given the X pandas Series, show its first element"
   ]
  },
  {
   "cell_type": "code",
   "execution_count": 20,
   "id": "51923088",
   "metadata": {},
   "outputs": [
    {
     "name": "stdout",
     "output_type": "stream",
     "text": [
      "A -By Location\n",
      "A -By Index\n"
     ]
    }
   ],
   "source": [
    "X = pd.Series(['A', 'B', 'C', 'D'])\n",
    "X.index = ['a', 'b', 'c', 'd']\n",
    "print(X[0], '-By Location')\n",
    "print(X['a'], '-By Index')"
   ]
  },
  {
   "cell_type": "markdown",
   "id": "d3e69fba",
   "metadata": {},
   "source": [
    "# Given the X pandas Series, show its last element"
   ]
  },
  {
   "cell_type": "code",
   "execution_count": 21,
   "id": "b84df63b",
   "metadata": {},
   "outputs": [
    {
     "name": "stdout",
     "output_type": "stream",
     "text": [
      "D -By Location\n",
      "D -By Index\n"
     ]
    }
   ],
   "source": [
    "X = pd.Series(['A', 'B', 'C', 'D'])\n",
    "X.index = ['a', 'b', 'c', 'd']\n",
    "print(X[-1], '-By Location')\n",
    "print(X['d'], '-By Index')"
   ]
  },
  {
   "cell_type": "markdown",
   "id": "c3c75901",
   "metadata": {},
   "source": [
    "# Given the X pandas Series, show all middle elements"
   ]
  },
  {
   "cell_type": "code",
   "execution_count": 23,
   "id": "ff62a2e5",
   "metadata": {},
   "outputs": [
    {
     "data": {
      "text/plain": [
       "b    B\n",
       "c    C\n",
       "d    D\n",
       "dtype: object"
      ]
     },
     "execution_count": 23,
     "metadata": {},
     "output_type": "execute_result"
    }
   ],
   "source": [
    "X = pd.Series(['A', 'B', 'C', 'D', 'E'])\n",
    "X.index = ['a', 'b', 'c', 'd', 'e']\n",
    "X[1:-1]"
   ]
  },
  {
   "cell_type": "markdown",
   "id": "c1f93348",
   "metadata": {},
   "source": [
    "# Given the X pandas Series, show the elements in reverse position"
   ]
  },
  {
   "cell_type": "code",
   "execution_count": 32,
   "id": "94360b92",
   "metadata": {},
   "outputs": [
    {
     "data": {
      "text/plain": [
       "4    E\n",
       "3    D\n",
       "2    C\n",
       "1    B\n",
       "0    A\n",
       "dtype: object"
      ]
     },
     "execution_count": 32,
     "metadata": {},
     "output_type": "execute_result"
    }
   ],
   "source": [
    "X = pd.Series(['A', 'B', 'C', 'D', 'E'])\n",
    "X[::-1]"
   ]
  },
  {
   "cell_type": "markdown",
   "id": "01747333",
   "metadata": {},
   "source": [
    "# Given the X pandas Series, show the first and last elements"
   ]
  },
  {
   "cell_type": "code",
   "execution_count": 39,
   "id": "c5c5decd",
   "metadata": {},
   "outputs": [
    {
     "data": {
      "text/plain": [
       "first    A\n",
       "fifth    E\n",
       "dtype: object"
      ]
     },
     "execution_count": 39,
     "metadata": {},
     "output_type": "execute_result"
    }
   ],
   "source": [
    "X = pd.Series(['A','B','C','D','E'],\n",
    "              index=['first','second','third','forth','fifth'])\n",
    "X[[0, -1]]"
   ]
  },
  {
   "cell_type": "markdown",
   "id": "e0e2e307",
   "metadata": {},
   "source": [
    "# Series manipulation\n",
    "### Convert the given integer pandas Series to float"
   ]
  },
  {
   "cell_type": "code",
   "execution_count": 44,
   "id": "4a21bc9c",
   "metadata": {},
   "outputs": [
    {
     "name": "stdout",
     "output_type": "stream",
     "text": [
      "0    1\n",
      "1    5\n",
      "2    8\n",
      "3    6\n",
      "4    5\n",
      "dtype: int64 <class 'pandas.core.series.Series'>\n"
     ]
    },
    {
     "data": {
      "text/plain": [
       "0    1.0\n",
       "1    5.0\n",
       "2    8.0\n",
       "3    6.0\n",
       "4    5.0\n",
       "dtype: float32"
      ]
     },
     "execution_count": 44,
     "metadata": {},
     "output_type": "execute_result"
    }
   ],
   "source": [
    "X = pd.Series([1,5,8,6,5])\n",
    "print(X, type(X))\n",
    "pd.Series(X, dtype = np.float32)"
   ]
  },
  {
   "cell_type": "markdown",
   "id": "2ea2f239",
   "metadata": {},
   "source": [
    "# Reverse the given pandas Series (first element becomes last)"
   ]
  },
  {
   "cell_type": "code",
   "execution_count": 45,
   "id": "2ddaa0fb",
   "metadata": {},
   "outputs": [
    {
     "data": {
      "text/plain": [
       "4    5\n",
       "3    6\n",
       "2    8\n",
       "1    5\n",
       "0    1\n",
       "dtype: int64"
      ]
     },
     "execution_count": 45,
     "metadata": {},
     "output_type": "execute_result"
    }
   ],
   "source": [
    "X = pd.Series([1,5,8,6,5])\n",
    "X[::-1]"
   ]
  },
  {
   "cell_type": "markdown",
   "id": "94cdcc83",
   "metadata": {},
   "source": [
    "# Order (sort) the given pandas Series"
   ]
  },
  {
   "cell_type": "code",
   "execution_count": 47,
   "id": "5e688a1c",
   "metadata": {},
   "outputs": [
    {
     "data": {
      "text/plain": [
       "0    1\n",
       "1    5\n",
       "4    5\n",
       "3    6\n",
       "2    8\n",
       "dtype: int64"
      ]
     },
     "execution_count": 47,
     "metadata": {},
     "output_type": "execute_result"
    }
   ],
   "source": [
    "X = pd.Series([1,5,8,6,5])\n",
    "X = X.sort_values()\n",
    "X"
   ]
  },
  {
   "cell_type": "markdown",
   "id": "ddf9994e",
   "metadata": {},
   "source": [
    "# Given the X pandas Series, set the fifth element equal to 10\n"
   ]
  },
  {
   "cell_type": "code",
   "execution_count": 48,
   "id": "3b9916a3",
   "metadata": {},
   "outputs": [
    {
     "data": {
      "text/plain": [
       "0     1\n",
       "1     5\n",
       "2     8\n",
       "3     6\n",
       "4    10\n",
       "dtype: int64"
      ]
     },
     "execution_count": 48,
     "metadata": {},
     "output_type": "execute_result"
    }
   ],
   "source": [
    "X = pd.Series([1,5,8,6,5])\n",
    "X[4] = 10\n",
    "X"
   ]
  },
  {
   "cell_type": "markdown",
   "id": "c6d8ac79",
   "metadata": {},
   "source": [
    "# Given the X pandas Series, change all the middle elements to 0"
   ]
  },
  {
   "cell_type": "code",
   "execution_count": 54,
   "id": "bfc6705f",
   "metadata": {},
   "outputs": [
    {
     "data": {
      "text/plain": [
       "0    1\n",
       "1    0\n",
       "2    0\n",
       "3    0\n",
       "4    5\n",
       "dtype: int64"
      ]
     },
     "execution_count": 54,
     "metadata": {},
     "output_type": "execute_result"
    }
   ],
   "source": [
    "X = pd.Series([1,5,8,6,5])\n",
    "X[1:-1]=0\n",
    "X"
   ]
  },
  {
   "cell_type": "markdown",
   "id": "94fd8b8e",
   "metadata": {},
   "source": [
    "# Given the X pandas Series, add 5 to every element"
   ]
  },
  {
   "cell_type": "code",
   "execution_count": 57,
   "id": "a54fab94",
   "metadata": {},
   "outputs": [
    {
     "data": {
      "text/plain": [
       "0     6\n",
       "1    10\n",
       "2    13\n",
       "3    11\n",
       "4    10\n",
       "dtype: int64"
      ]
     },
     "execution_count": 57,
     "metadata": {},
     "output_type": "execute_result"
    }
   ],
   "source": [
    "X = pd.Series([1,5,8,6,5])\n",
    "X = X+5\n",
    "X"
   ]
  },
  {
   "cell_type": "markdown",
   "id": "7a6779c9",
   "metadata": {},
   "source": [
    "\n",
    "# Series boolean arrays (also called masks)\n",
    "\n",
    "\n",
    "## Given the X pandas Series, make a mask showing negative elements"
   ]
  },
  {
   "cell_type": "code",
   "execution_count": 66,
   "id": "a2c82d16",
   "metadata": {},
   "outputs": [
    {
     "data": {
      "text/plain": [
       "0    False\n",
       "1     True\n",
       "2    False\n",
       "3     True\n",
       "4    False\n",
       "dtype: bool"
      ]
     },
     "execution_count": 66,
     "metadata": {},
     "output_type": "execute_result"
    }
   ],
   "source": [
    "X = pd.Series([1,-5,8,-6,5])\n",
    "mask = X<0\n",
    "mask"
   ]
  },
  {
   "cell_type": "markdown",
   "id": "90859b06",
   "metadata": {},
   "source": [
    "# Given the X pandas Series, get the negative elements"
   ]
  },
  {
   "cell_type": "code",
   "execution_count": 65,
   "id": "349958d9",
   "metadata": {},
   "outputs": [
    {
     "data": {
      "text/plain": [
       "1   -5\n",
       "3   -6\n",
       "dtype: int64"
      ]
     },
     "execution_count": 65,
     "metadata": {},
     "output_type": "execute_result"
    }
   ],
   "source": [
    "X = pd.Series([1,-5,8,-6,5])\n",
    "mask = X<=0\n",
    "X[mask]"
   ]
  },
  {
   "cell_type": "code",
   "execution_count": 63,
   "id": "754ae9ee",
   "metadata": {},
   "outputs": [
    {
     "data": {
      "text/plain": [
       "0   -1\n",
       "2    0\n",
       "3   -4\n",
       "6    0\n",
       "7    0\n",
       "8   -9\n",
       "dtype: int64"
      ]
     },
     "execution_count": 63,
     "metadata": {},
     "output_type": "execute_result"
    }
   ],
   "source": [
    "X = pd.Series([-1,2,0,-4,5,6,0,0,-9,10])\n",
    "\n",
    "mask = X <= 0\n",
    "X[mask]"
   ]
  },
  {
   "cell_type": "markdown",
   "id": "22c74d61",
   "metadata": {},
   "source": [
    "# Given the X pandas Series, get numbers higher than 5"
   ]
  },
  {
   "cell_type": "code",
   "execution_count": 68,
   "id": "9d071f2a",
   "metadata": {},
   "outputs": [
    {
     "data": {
      "text/plain": [
       "4     5\n",
       "5     6\n",
       "9    10\n",
       "dtype: int64"
      ]
     },
     "execution_count": 68,
     "metadata": {},
     "output_type": "execute_result"
    }
   ],
   "source": [
    "X = pd.Series([-1,2,0,-4,5,6,0,0,-9,10])\n",
    "mask = X>=5\n",
    "X[mask]"
   ]
  },
  {
   "cell_type": "markdown",
   "id": "cdd154f6",
   "metadata": {},
   "source": [
    "# Given the X pandas Series, get numbers higher than the elements mean"
   ]
  },
  {
   "cell_type": "code",
   "execution_count": 70,
   "id": "214c056d",
   "metadata": {},
   "outputs": [
    {
     "data": {
      "text/plain": [
       "1     2\n",
       "4     5\n",
       "5     6\n",
       "9    10\n",
       "dtype: int64"
      ]
     },
     "execution_count": 70,
     "metadata": {},
     "output_type": "execute_result"
    }
   ],
   "source": [
    "X = pd.Series([-1,2,0,-4,5,6,0,0,-9,10])\n",
    "\n",
    "mask = X > X.mean()\n",
    "X[mask]"
   ]
  },
  {
   "cell_type": "markdown",
   "id": "646d0d10",
   "metadata": {},
   "source": [
    "# Given the X pandas Series, get numbers equal to 2 or 10"
   ]
  },
  {
   "cell_type": "code",
   "execution_count": 74,
   "id": "2cc389cd",
   "metadata": {},
   "outputs": [
    {
     "data": {
      "text/plain": [
       "1     2\n",
       "9    10\n",
       "dtype: int64"
      ]
     },
     "execution_count": 74,
     "metadata": {},
     "output_type": "execute_result"
    }
   ],
   "source": [
    "X = pd.Series([-1,2,0,-4,5,6,0,0,-9,10])\n",
    "mask = (X==2) | (X==10)\n",
    "X[mask]\n"
   ]
  },
  {
   "cell_type": "markdown",
   "id": "7e4246f1",
   "metadata": {},
   "source": [
    "# Logic functions\n",
    "### Given the X pandas Series, return True if none of its elements is zero"
   ]
  },
  {
   "cell_type": "code",
   "execution_count": 76,
   "id": "a7617977",
   "metadata": {},
   "outputs": [
    {
     "data": {
      "text/plain": [
       "False"
      ]
     },
     "execution_count": 76,
     "metadata": {},
     "output_type": "execute_result"
    }
   ],
   "source": [
    "X = pd.Series([-1,2,0,-4,5,6,0,0,-9,10])\n",
    "X.all()"
   ]
  },
  {
   "cell_type": "markdown",
   "id": "18cde24c",
   "metadata": {},
   "source": [
    "### Given the X pandas Series, return True if any of its elements is zero"
   ]
  },
  {
   "cell_type": "code",
   "execution_count": 77,
   "id": "50185a44",
   "metadata": {},
   "outputs": [
    {
     "data": {
      "text/plain": [
       "True"
      ]
     },
     "execution_count": 77,
     "metadata": {},
     "output_type": "execute_result"
    }
   ],
   "source": [
    "X = pd.Series([-1,2,0,-4,5,6,0,0,-9,10])\n",
    "X.any()"
   ]
  },
  {
   "cell_type": "markdown",
   "id": "e83a5019",
   "metadata": {},
   "source": [
    "# Summary statistics\n",
    "\n",
    "### Given the X pandas Series, show the sum of its elements"
   ]
  },
  {
   "cell_type": "code",
   "execution_count": 78,
   "id": "ee925458",
   "metadata": {},
   "outputs": [
    {
     "data": {
      "text/plain": [
       "9"
      ]
     },
     "execution_count": 78,
     "metadata": {},
     "output_type": "execute_result"
    }
   ],
   "source": [
    "X = pd.Series([-1,2,0,-4,5,6,0,0,-9,10])\n",
    "X.sum()"
   ]
  },
  {
   "cell_type": "markdown",
   "id": "48e6148e",
   "metadata": {},
   "source": [
    "### Given the X pandas Series, show the mean value of its elements"
   ]
  },
  {
   "cell_type": "code",
   "execution_count": 79,
   "id": "ca4a580a",
   "metadata": {},
   "outputs": [
    {
     "data": {
      "text/plain": [
       "0.9"
      ]
     },
     "execution_count": 79,
     "metadata": {},
     "output_type": "execute_result"
    }
   ],
   "source": [
    "X = pd.Series([-1,2,0,-4,5,6,0,0,-9,10])\n",
    "X.mean()"
   ]
  },
  {
   "cell_type": "markdown",
   "id": "7c687658",
   "metadata": {},
   "source": [
    "### Given the X pandas Series, show the max value of its elements"
   ]
  },
  {
   "cell_type": "code",
   "execution_count": 80,
   "id": "a0340222",
   "metadata": {},
   "outputs": [
    {
     "data": {
      "text/plain": [
       "10"
      ]
     },
     "execution_count": 80,
     "metadata": {},
     "output_type": "execute_result"
    }
   ],
   "source": [
    "X = pd.Series([-1,2,0,-4,5,6,0,0,-9,10])\n",
    "X.max()"
   ]
  }
 ],
 "metadata": {
  "kernelspec": {
   "display_name": "Python 3 (ipykernel)",
   "language": "python",
   "name": "python3"
  },
  "language_info": {
   "codemirror_mode": {
    "name": "ipython",
    "version": 3
   },
   "file_extension": ".py",
   "mimetype": "text/x-python",
   "name": "python",
   "nbconvert_exporter": "python",
   "pygments_lexer": "ipython3",
   "version": "3.9.15"
  }
 },
 "nbformat": 4,
 "nbformat_minor": 5
}
